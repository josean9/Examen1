{
 "cells": [
  {
   "cell_type": "code",
   "execution_count": null,
   "metadata": {},
   "outputs": [
    {
     "ename": "",
     "evalue": "",
     "output_type": "error",
     "traceback": [
      "\u001b[1;31mLa ejecución de celdas con 'Python 3.10.8 64-bit (microsoft store)' requieren el paquete ipykernel.\n",
      "\u001b[1;31mEjecute el siguiente comando para instalar 'ipykernel' en el entorno de Python. comando \n",
      "\u001b[1;31m: '\"c:/Users/JOSE ANTONIO/AppData/Local/Microsoft/WindowsApps/python3.10.exe\" -m pip install ipykernel -U --force-reinstall'"
     ]
    }
   ],
   "source": [
    "# import sympy\n",
    "import sympy \n",
    "def operacion(valor):\n",
    "    print(\"formula:\"(a*x*b)**n)\n",
    "    a = int(input(\"ingrese el valor de a:\"))    #Valor que multiplica a x\n",
    "    b = int(input(\"ingrese el valor de b:\"))    #valor termino independiente\n",
    "    x = int(input(\"ingrese el valor de x:\"))    #valor de x\n",
    "    n = int(input(\"ingrese el valor de n:\"))    #a lo que se eleva la operacion\n",
    "    operacion = (a*x+b)**n\n",
    "    if n == 0:                                 #si n es 0 el resultado es 1\n",
    "        print(\"el resultado es 1\")\n",
    "    elif n == 1:                               #si n es 1 el resultado es a*x+b\n",
    "        print(\"el resultado es\", operacion)\n",
    "    elif n%2 == 0:                         \n",
    "        print(\"el resultado es\", operacion)\n",
    "    else:                                    \n",
    "        print(\"el resultado es\", operacion)\n",
    "operacion()"
   ]
  }
 ],
 "metadata": {
  "kernelspec": {
   "display_name": "Python 3.10.8 64-bit (microsoft store)",
   "language": "python",
   "name": "python3"
  },
  "language_info": {
   "name": "python",
   "version": "3.10.8"
  },
  "orig_nbformat": 4,
  "vscode": {
   "interpreter": {
    "hash": "ad3b0cd1acfef684cc2fde4e9122a3101adc2b8d9568ead10c63363fe6c1f032"
   }
  }
 },
 "nbformat": 4,
 "nbformat_minor": 2
}
